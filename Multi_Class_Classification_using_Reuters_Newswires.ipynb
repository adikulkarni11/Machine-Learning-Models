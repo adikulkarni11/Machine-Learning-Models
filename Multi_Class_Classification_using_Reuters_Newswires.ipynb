{
  "nbformat": 4,
  "nbformat_minor": 0,
  "metadata": {
    "kernelspec": {
      "display_name": "Python 3",
      "language": "python",
      "name": "python3"
    },
    "language_info": {
      "codemirror_mode": {
        "name": "ipython",
        "version": 3
      },
      "file_extension": ".py",
      "mimetype": "text/x-python",
      "name": "python",
      "nbconvert_exporter": "python",
      "pygments_lexer": "ipython3",
      "version": "3.7.4"
    },
    "colab": {
      "name": "Multi-Class Classification using Reuters Newswires.ipynb",
      "provenance": [],
      "include_colab_link": true
    }
  },
  "cells": [
    {
      "cell_type": "markdown",
      "metadata": {
        "id": "view-in-github",
        "colab_type": "text"
      },
      "source": [
        "<a href=\"https://colab.research.google.com/github/adikulkarni11/Machine-Learning-Models/blob/main/Multi_Class_Classification_using_Reuters_Newswires.ipynb\" target=\"_parent\"><img src=\"https://colab.research.google.com/assets/colab-badge.svg\" alt=\"Open In Colab\"/></a>"
      ]
    },
    {
      "cell_type": "markdown",
      "metadata": {
        "id": "9taGx9DN-r5w"
      },
      "source": [
        "# Aditya Kulkarni"
      ]
    },
    {
      "cell_type": "markdown",
      "metadata": {
        "id": "R4RqaO9P9IFe"
      },
      "source": [
        "# Classifying newswires: a multi-class classification example\n",
        "\n",
        "This notebook contains the code samples found in Chapter 3, Section 5 of [Deep Learning with Python](https://www.manning.com/books/deep-learning-with-python?a_aid=keras&a_bid=76564dff). Note that the original text features far more content, in particular further explanations and figures: in this notebook, you will only find source code and related comments.\n",
        "\n",
        "----\n",
        "\n",
        "In the previous section we saw how to classify vector inputs into two mutually exclusive classes using a densely-connected neural network. \n",
        "But what happens when you have more than two classes? \n",
        "\n",
        "In this section, we will build a network to classify Reuters newswires into 46 different mutually-exclusive topics. Since we have many \n",
        "classes, this problem is an instance of \"multi-class classification\", and since each data point should be classified into only one \n",
        "category, the problem is more specifically an instance of \"single-label, multi-class classification\". If each data point could have \n",
        "belonged to multiple categories (in our case, topics) then we would be facing a \"multi-label, multi-class classification\" problem."
      ]
    },
    {
      "cell_type": "markdown",
      "metadata": {
        "id": "XPSrdnml9IFe"
      },
      "source": [
        "## The Reuters dataset\n",
        "\n",
        "\n",
        "We will be working with the _Reuters dataset_, a set of short newswires and their topics, published by Reuters in 1986. It's a very simple, \n",
        "widely used toy dataset for text classification. There are 46 different topics; some topics are more represented than others, but each \n",
        "topic has at least 10 examples in the training set.\n",
        "\n",
        "Like IMDB and MNIST, the Reuters dataset comes packaged as part of Keras. Let's take a look right away:"
      ]
    },
    {
      "cell_type": "code",
      "metadata": {
        "id": "gz_sBjwp9IFV",
        "outputId": "b035b806-0daa-4394-fd8c-cde451b84ffb"
      },
      "source": [
        "import keras\n",
        "keras.__version__"
      ],
      "execution_count": null,
      "outputs": [
        {
          "output_type": "stream",
          "text": [
            "Using TensorFlow backend.\n"
          ],
          "name": "stderr"
        },
        {
          "output_type": "execute_result",
          "data": {
            "text/plain": [
              "'2.3.1'"
            ]
          },
          "metadata": {
            "tags": []
          },
          "execution_count": 1
        }
      ]
    },
    {
      "cell_type": "code",
      "metadata": {
        "id": "qHw3610_9IFf"
      },
      "source": [
        "from keras.datasets import reuters\n",
        "\n",
        "(train_data, train_labels), (test_data, test_labels) = reuters.load_data(num_words=10000)"
      ],
      "execution_count": null,
      "outputs": []
    },
    {
      "cell_type": "markdown",
      "metadata": {
        "id": "vvzZxm3I9IFi"
      },
      "source": [
        "\n",
        "Like with the IMDB dataset, the argument `num_words=10000` restricts the data to the 10,000 most frequently occurring words found in the \n",
        "data.\n",
        "\n",
        "We have 8,982 training examples and 2,246 test examples:"
      ]
    },
    {
      "cell_type": "code",
      "metadata": {
        "id": "Ux-jZC_b9IFj",
        "outputId": "9edba996-798d-4c3f-c0cc-b32c649f454d"
      },
      "source": [
        "len(train_data)"
      ],
      "execution_count": null,
      "outputs": [
        {
          "output_type": "execute_result",
          "data": {
            "text/plain": [
              "8982"
            ]
          },
          "metadata": {
            "tags": []
          },
          "execution_count": 3
        }
      ]
    },
    {
      "cell_type": "code",
      "metadata": {
        "id": "fT_nVj539IFm",
        "outputId": "31def1be-9a7f-466b-da39-fb153d220858"
      },
      "source": [
        "len(test_data)"
      ],
      "execution_count": null,
      "outputs": [
        {
          "output_type": "execute_result",
          "data": {
            "text/plain": [
              "2246"
            ]
          },
          "metadata": {
            "tags": []
          },
          "execution_count": 4
        }
      ]
    },
    {
      "cell_type": "markdown",
      "metadata": {
        "id": "UZkkdQ_Q9IFq"
      },
      "source": [
        "As with the IMDB reviews, each example is a list of integers (word indices):"
      ]
    },
    {
      "cell_type": "code",
      "metadata": {
        "id": "QJQ8anUA9IFr",
        "outputId": "c9861703-c8fb-43be-80a5-f6c3db09439e"
      },
      "source": [
        "train_data[10]"
      ],
      "execution_count": null,
      "outputs": [
        {
          "output_type": "execute_result",
          "data": {
            "text/plain": [
              "[1,\n",
              " 245,\n",
              " 273,\n",
              " 207,\n",
              " 156,\n",
              " 53,\n",
              " 74,\n",
              " 160,\n",
              " 26,\n",
              " 14,\n",
              " 46,\n",
              " 296,\n",
              " 26,\n",
              " 39,\n",
              " 74,\n",
              " 2979,\n",
              " 3554,\n",
              " 14,\n",
              " 46,\n",
              " 4689,\n",
              " 4329,\n",
              " 86,\n",
              " 61,\n",
              " 3499,\n",
              " 4795,\n",
              " 14,\n",
              " 61,\n",
              " 451,\n",
              " 4329,\n",
              " 17,\n",
              " 12]"
            ]
          },
          "metadata": {
            "tags": []
          },
          "execution_count": 5
        }
      ]
    },
    {
      "cell_type": "markdown",
      "metadata": {
        "id": "VeiUEJvN9IFw"
      },
      "source": [
        "Here's how you can decode it back to words, in case you are curious:"
      ]
    },
    {
      "cell_type": "code",
      "metadata": {
        "id": "uNqLzTy59IFw"
      },
      "source": [
        "word_index = reuters.get_word_index()\n",
        "reverse_word_index = dict([(value, key) for (key, value) in word_index.items()])\n",
        "# Note that our indices were offset by 3\n",
        "# because 0, 1 and 2 are reserved indices for \"padding\", \"start of sequence\", and \"unknown\".\n",
        "decoded_newswire = ' '.join([reverse_word_index.get(i - 3, '?') for i in train_data[0]])"
      ],
      "execution_count": null,
      "outputs": []
    },
    {
      "cell_type": "code",
      "metadata": {
        "id": "t3atHLcj9IF0",
        "outputId": "0e7c402c-e2b9-4f9f-e357-253627df30b6"
      },
      "source": [
        "decoded_newswire"
      ],
      "execution_count": null,
      "outputs": [
        {
          "output_type": "execute_result",
          "data": {
            "text/plain": [
              "'? ? ? said as a result of its december acquisition of space co it expects earnings per share in 1987 of 1 15 to 1 30 dlrs per share up from 70 cts in 1986 the company said pretax net should rise to nine to 10 mln dlrs from six mln dlrs in 1986 and rental operation revenues to 19 to 22 mln dlrs from 12 5 mln dlrs it said cash flow per share this year should be 2 50 to three dlrs reuter 3'"
            ]
          },
          "metadata": {
            "tags": []
          },
          "execution_count": 7
        }
      ]
    },
    {
      "cell_type": "markdown",
      "metadata": {
        "id": "YLY90m6u9IF3"
      },
      "source": [
        "The label associated with an example is an integer between 0 and 45: a topic index."
      ]
    },
    {
      "cell_type": "code",
      "metadata": {
        "id": "SnRvdjSH9IF4",
        "outputId": "dc4b6ae0-a3c4-4910-e919-fae31bd8fea2"
      },
      "source": [
        "train_labels[10]"
      ],
      "execution_count": null,
      "outputs": [
        {
          "output_type": "execute_result",
          "data": {
            "text/plain": [
              "3"
            ]
          },
          "metadata": {
            "tags": []
          },
          "execution_count": 8
        }
      ]
    },
    {
      "cell_type": "code",
      "metadata": {
        "id": "ThFfQ-wg9IF-",
        "outputId": "53df87e4-b5cb-4db9-fb18-1c92167d864e"
      },
      "source": [
        "train_data.shape"
      ],
      "execution_count": null,
      "outputs": [
        {
          "output_type": "execute_result",
          "data": {
            "text/plain": [
              "(8982,)"
            ]
          },
          "metadata": {
            "tags": []
          },
          "execution_count": 9
        }
      ]
    },
    {
      "cell_type": "code",
      "metadata": {
        "id": "tfjOLgtX9IGC"
      },
      "source": [
        "texts = []\n",
        "for data in train_data:\n",
        "    decoded_newswire = ' '.join([reverse_word_index.get(i - 3, '?') for i in data])\n",
        "    texts.append(decoded_newswire)"
      ],
      "execution_count": null,
      "outputs": []
    },
    {
      "cell_type": "code",
      "metadata": {
        "id": "h6_CCCo89IGG",
        "outputId": "a27de626-7a4d-4869-f8bb-5d0d1493358a"
      },
      "source": [
        "texts[:2]"
      ],
      "execution_count": null,
      "outputs": [
        {
          "output_type": "execute_result",
          "data": {
            "text/plain": [
              "['? ? ? said as a result of its december acquisition of space co it expects earnings per share in 1987 of 1 15 to 1 30 dlrs per share up from 70 cts in 1986 the company said pretax net should rise to nine to 10 mln dlrs from six mln dlrs in 1986 and rental operation revenues to 19 to 22 mln dlrs from 12 5 mln dlrs it said cash flow per share this year should be 2 50 to three dlrs reuter 3',\n",
              " '? generale de banque sa lt ? br and lt heller overseas corp of chicago have each taken 50 pct stakes in ? company sa ? factors generale de banque said in a statement it gave no financial details of the transaction sa ? ? turnover in 1986 was 17 5 billion belgian francs reuter 3']"
            ]
          },
          "metadata": {
            "tags": []
          },
          "execution_count": 11
        }
      ]
    },
    {
      "cell_type": "markdown",
      "metadata": {
        "id": "Q6pK-dPW9IGI"
      },
      "source": [
        "## Preparing the data\n",
        "\n",
        "We can vectorize the data with the exact same code as in our previous example:"
      ]
    },
    {
      "cell_type": "code",
      "metadata": {
        "id": "WaK0gdNG9IGJ",
        "outputId": "cb182c54-4665-423d-fae0-03488e716d4f"
      },
      "source": [
        "from keras.preprocessing.text import Tokenizer\n",
        "from keras.preprocessing.sequence import pad_sequences\n",
        "import numpy as np\n",
        "\n",
        "maxlen = 500  # We will cut reviews after 500 words\n",
        "training_samples = 7000  # We will be training on 7000 samples\n",
        "validation_samples = 1982  # We will be validating on 1982 samples\n",
        "max_words = 10000  # We will only consider the top 10,000 words in the dataset\n",
        "\n",
        "tokenizer = Tokenizer(num_words=max_words)\n",
        "tokenizer.fit_on_texts(texts)\n",
        "sequences = tokenizer.texts_to_sequences(texts)\n",
        "\n",
        "word_index = tokenizer.word_index\n",
        "print('Found %s unique tokens.' % len(word_index))\n",
        "\n",
        "data = pad_sequences(sequences, maxlen=maxlen)\n",
        "\n",
        "print('Shape of data tensor:', data.shape)\n",
        "\n",
        "\n",
        "from keras.utils.np_utils import to_categorical\n",
        "\n",
        "one_hot_train_labels = to_categorical(train_labels)\n",
        "one_hot_test_labels = to_categorical(test_labels)\n",
        "\n",
        "\n",
        "x_train = data[:training_samples]\n",
        "y_train = one_hot_train_labels[:training_samples]\n",
        "x_val = data[training_samples: training_samples + validation_samples]\n",
        "y_val = one_hot_train_labels[training_samples: training_samples + validation_samples]"
      ],
      "execution_count": null,
      "outputs": [
        {
          "output_type": "stream",
          "text": [
            "Found 9980 unique tokens.\n",
            "Shape of data tensor: (8982, 500)\n"
          ],
          "name": "stdout"
        }
      ]
    },
    {
      "cell_type": "code",
      "metadata": {
        "id": "7R9hG-ZP9IGM",
        "outputId": "2e6ce5fa-5d5a-4b3d-bded-2fabe0c38bab"
      },
      "source": [
        "import os\n",
        "glove_dir = '/Downloads/glove.6B/'\n",
        "\n",
        "embeddings_index = {}\n",
        "f = open(os.path.join(glove_dir, 'glove.6B.300d.txt'))\n",
        "for line in f:\n",
        "    values = line.split()\n",
        "    word = values[0]\n",
        "    coefs = np.asarray(values[1:], dtype='float32')\n",
        "    embeddings_index[word] = coefs\n",
        "f.close()\n",
        "\n",
        "print('Found %s word vectors.' % len(embeddings_index))"
      ],
      "execution_count": null,
      "outputs": [
        {
          "output_type": "stream",
          "text": [
            "Found 400000 word vectors.\n"
          ],
          "name": "stdout"
        }
      ]
    },
    {
      "cell_type": "code",
      "metadata": {
        "id": "-J-BUm_y9IGP"
      },
      "source": [
        "embedding_dim = 300\n",
        "\n",
        "embedding_matrix = np.zeros((max_words, embedding_dim))\n",
        "for word, i in word_index.items():\n",
        "    embedding_vector = embeddings_index.get(word)\n",
        "    if i < max_words:\n",
        "        if embedding_vector is not None:\n",
        "            # Words not found in embedding index will be all-zeros.\n",
        "            embedding_matrix[i] = embedding_vector"
      ],
      "execution_count": null,
      "outputs": []
    },
    {
      "cell_type": "code",
      "metadata": {
        "id": "tFgDqMsb9IGR",
        "outputId": "c471cd52-1e76-4359-83cc-d25431b5dfb1"
      },
      "source": [
        "from keras.models import Sequential\n",
        "from keras import layers\n",
        "from keras.layers import GRU\n",
        "\n",
        "callbacks_list = [\n",
        "    keras.callbacks.EarlyStopping(monitor='val_loss', patience=10,),\n",
        "    keras.callbacks.ModelCheckpoint(filepath='GRUs-300.h5', monitor='val_loss', save_best_only=True,)]\n",
        "\n",
        "model = Sequential()\n",
        "model.add(layers.Embedding(max_words, embedding_dim, input_length=maxlen))\n",
        "model.add(layers.Bidirectional(GRU(64, activation='relu', return_sequences=True)))\n",
        "model.add(layers.GRU(64, activation='relu'))\n",
        "model.add(layers.Dense(64))\n",
        "model.add(layers.Dropout(0.5))\n",
        "model.add(layers.Dense( , activation=''))\n",
        "model.layers[0].set_weights([embedding_matrix])\n",
        "model.layers[0].trainable = False\n",
        "model.compile(optimizer='nadam',\n",
        "              loss='',\n",
        "              metrics=['acc'])\n",
        "model.summary()"
      ],
      "execution_count": null,
      "outputs": [
        {
          "output_type": "stream",
          "text": [
            "Model: \"sequential_1\"\n",
            "_________________________________________________________________\n",
            "Layer (type)                 Output Shape              Param #   \n",
            "=================================================================\n",
            "embedding_1 (Embedding)      (None, 500, 300)          3000000   \n",
            "_________________________________________________________________\n",
            "bidirectional_1 (Bidirection (None, 500, 128)          140160    \n",
            "_________________________________________________________________\n",
            "gru_2 (GRU)                  (None, 64)                37056     \n",
            "_________________________________________________________________\n",
            "dense_1 (Dense)              (None, 64)                4160      \n",
            "_________________________________________________________________\n",
            "dropout_1 (Dropout)          (None, 64)                0         \n",
            "_________________________________________________________________\n",
            "dense_2 (Dense)              (None, 46)                2990      \n",
            "=================================================================\n",
            "Total params: 3,184,366\n",
            "Trainable params: 184,366\n",
            "Non-trainable params: 3,000,000\n",
            "_________________________________________________________________\n"
          ],
          "name": "stdout"
        }
      ]
    },
    {
      "cell_type": "code",
      "metadata": {
        "id": "kNvm60Hf9IGV",
        "outputId": "c011472c-1baf-4d89-d485-6bda09468f11"
      },
      "source": [
        "history = model.fit(x_train, y_train, shuffle=True,\n",
        "                    epochs=200,\n",
        "                    batch_size=128,\n",
        "                    callbacks=callbacks_list,\n",
        "                    validation_data=(x_val, y_val))"
      ],
      "execution_count": null,
      "outputs": [
        {
          "output_type": "stream",
          "text": [
            "Train on 7000 samples, validate on 1982 samples\n",
            "Epoch 1/200\n",
            "7000/7000 [==============================] - 82s 12ms/step - loss: 2.3526 - acc: 0.4270 - val_loss: 1.7028 - val_acc: 0.5575\n",
            "Epoch 2/200\n",
            "7000/7000 [==============================] - 77s 11ms/step - loss: 1.6217 - acc: 0.6066 - val_loss: 1.2532 - val_acc: 0.7008\n",
            "Epoch 3/200\n",
            "7000/7000 [==============================] - 76s 11ms/step - loss: 1.2078 - acc: 0.7109 - val_loss: 1.0250 - val_acc: 0.7503\n",
            "Epoch 4/200\n",
            "7000/7000 [==============================] - 76s 11ms/step - loss: 1.0015 - acc: 0.7616 - val_loss: 0.9000 - val_acc: 0.7810\n",
            "Epoch 5/200\n",
            "7000/7000 [==============================] - 76s 11ms/step - loss: 0.8946 - acc: 0.7890 - val_loss: 0.8298 - val_acc: 0.8007\n",
            "Epoch 6/200\n",
            "7000/7000 [==============================] - 76s 11ms/step - loss: 0.7982 - acc: 0.8084 - val_loss: 0.7908 - val_acc: 0.8118\n",
            "Epoch 7/200\n",
            "7000/7000 [==============================] - 76s 11ms/step - loss: 0.7298 - acc: 0.8281 - val_loss: 0.7553 - val_acc: 0.8209\n",
            "Epoch 8/200\n",
            "7000/7000 [==============================] - 76s 11ms/step - loss: 0.6606 - acc: 0.8401 - val_loss: 0.8062 - val_acc: 0.8078\n",
            "Epoch 9/200\n",
            "7000/7000 [==============================] - 77s 11ms/step - loss: 0.5965 - acc: 0.8550 - val_loss: 0.7634 - val_acc: 0.8274\n",
            "Epoch 10/200\n",
            "7000/7000 [==============================] - 76s 11ms/step - loss: 0.5557 - acc: 0.8636 - val_loss: 0.7663 - val_acc: 0.8320\n",
            "Epoch 11/200\n",
            "7000/7000 [==============================] - 76s 11ms/step - loss: 0.4992 - acc: 0.8789 - val_loss: 0.7601 - val_acc: 0.8335\n",
            "Epoch 12/200\n",
            "7000/7000 [==============================] - 76s 11ms/step - loss: 0.4709 - acc: 0.8851 - val_loss: 0.7890 - val_acc: 0.8295\n",
            "Epoch 13/200\n",
            "7000/7000 [==============================] - 76s 11ms/step - loss: 0.4072 - acc: 0.8984 - val_loss: 0.8696 - val_acc: 0.8335\n",
            "Epoch 14/200\n",
            "7000/7000 [==============================] - 76s 11ms/step - loss: 0.3846 - acc: 0.9027 - val_loss: 0.9085 - val_acc: 0.8229\n",
            "Epoch 15/200\n",
            "7000/7000 [==============================] - 76s 11ms/step - loss: 0.3481 - acc: 0.9077 - val_loss: 0.8991 - val_acc: 0.8355\n",
            "Epoch 16/200\n",
            "7000/7000 [==============================] - 76s 11ms/step - loss: 0.3262 - acc: 0.9139 - val_loss: 0.8594 - val_acc: 0.8375\n",
            "Epoch 17/200\n",
            "7000/7000 [==============================] - 80s 11ms/step - loss: 0.2941 - acc: 0.9214 - val_loss: 0.9300 - val_acc: 0.8330\n"
          ],
          "name": "stdout"
        }
      ]
    },
    {
      "cell_type": "code",
      "metadata": {
        "id": "K3xB8BhE9IGY"
      },
      "source": [
        "%matplotlib inline\n",
        "import matplotlib.pyplot as plt\n",
        "def plot_history(history):\n",
        "    acc = history.history['acc']\n",
        "    val_acc = history.history['val_acc']\n",
        "    loss = history.history['loss']\n",
        "    val_loss = history.history['val_loss']\n",
        "\n",
        "    epochs = range(1, len(acc) + 1)\n",
        "\n",
        "    plt.plot(epochs, acc, 'bo', label='Training acc')\n",
        "    plt.plot(epochs, val_acc, 'b', label='Validation acc')\n",
        "    plt.title('Training and validation accuracy')\n",
        "    plt.legend()\n",
        "\n",
        "    plt.figure()\n",
        "\n",
        "    plt.plot(epochs, loss, 'bo', label='Training loss')\n",
        "    plt.plot(epochs, val_loss, 'b', label='Validation loss')\n",
        "    plt.title('Training and validation loss')\n",
        "    plt.legend()\n",
        "\n",
        "    plt.show()"
      ],
      "execution_count": null,
      "outputs": []
    },
    {
      "cell_type": "code",
      "metadata": {
        "id": "khGakrGI9IGc",
        "outputId": "0569f3b1-f616-40ea-c0d7-f6b7ad9bdde8"
      },
      "source": [
        "plot_history(history)"
      ],
      "execution_count": null,
      "outputs": [
        {
          "output_type": "display_data",
          "data": {
            "image/png": "[encoded data removed]",
            "text/plain": [
              "<Figure size 432x288 with 1 Axes>"
            ]
          },
          "metadata": {
            "tags": [],
            "needs_background": "light"
          }
        },
        {
          "output_type": "display_data",
          "data": {
            "image/png": "[encoded data removed]",
            "text/plain": [
              "<Figure size 432x288 with 1 Axes>"
            ]
          },
          "metadata": {
            "tags": [],
            "needs_background": "light"
          }
        }
      ]
    },
    {
      "cell_type": "code",
      "metadata": {
        "id": "gBXpLK6o9IGf",
        "outputId": "7369d281-c512-4ad5-859b-f90b5d97ddf3"
      },
      "source": [
        "model = keras.models.load_model('GRUs-300.h5')\n",
        "model.summary()"
      ],
      "execution_count": null,
      "outputs": [
        {
          "output_type": "stream",
          "text": [
            "Model: \"sequential_1\"\n",
            "_________________________________________________________________\n",
            "Layer (type)                 Output Shape              Param #   \n",
            "=================================================================\n",
            "embedding_1 (Embedding)      (None, 500, 300)          3000000   \n",
            "_________________________________________________________________\n",
            "bidirectional_1 (Bidirection (None, 500, 128)          140160    \n",
            "_________________________________________________________________\n",
            "gru_2 (GRU)                  (None, 64)                37056     \n",
            "_________________________________________________________________\n",
            "dense_1 (Dense)              (None, 64)                4160      \n",
            "_________________________________________________________________\n",
            "dropout_1 (Dropout)          (None, 64)                0         \n",
            "_________________________________________________________________\n",
            "dense_2 (Dense)              (None, 46)                2990      \n",
            "=================================================================\n",
            "Total params: 3,184,366\n",
            "Trainable params: 184,366\n",
            "Non-trainable params: 3,000,000\n",
            "_________________________________________________________________\n"
          ],
          "name": "stdout"
        }
      ]
    },
    {
      "cell_type": "code",
      "metadata": {
        "id": "vRw19yBX9IGi",
        "outputId": "28a1ec6c-9eac-423a-e58a-820ff1a47cfa"
      },
      "source": [
        "model.layers[0].trainable = True\n",
        "for i in range(1, len(model.layers)):\n",
        "    model.layers[i].trainable = False\n",
        "\n",
        "model.compile(optimizer='adam',\n",
        "              loss='',\n",
        "              metrics=['acc'])\n",
        "model.summary()"
      ],
      "execution_count": null,
      "outputs": [
        {
          "output_type": "stream",
          "text": [
            "Model: \"sequential_1\"\n",
            "_________________________________________________________________\n",
            "Layer (type)                 Output Shape              Param #   \n",
            "=================================================================\n",
            "embedding_1 (Embedding)      (None, 500, 300)          3000000   \n",
            "_________________________________________________________________\n",
            "bidirectional_1 (Bidirection (None, 500, 128)          140160    \n",
            "_________________________________________________________________\n",
            "gru_2 (GRU)                  (None, 64)                37056     \n",
            "_________________________________________________________________\n",
            "dense_1 (Dense)              (None, 64)                4160      \n",
            "_________________________________________________________________\n",
            "dropout_1 (Dropout)          (None, 64)                0         \n",
            "_________________________________________________________________\n",
            "dense_2 (Dense)              (None, 46)                2990      \n",
            "=================================================================\n",
            "Total params: 3,184,366\n",
            "Trainable params: 3,000,000\n",
            "Non-trainable params: 184,366\n",
            "_________________________________________________________________\n"
          ],
          "name": "stdout"
        }
      ]
    },
    {
      "cell_type": "code",
      "metadata": {
        "id": "nxLHe1Np9IGl",
        "outputId": "bb7930fe-99d2-4c2a-fdee-d754fdee57cc"
      },
      "source": [
        "# This is an important technique one needs to learn\n",
        "callbacks_list = [\n",
        "    keras.callbacks.EarlyStopping(monitor='val_loss', patience=10,),\n",
        "    keras.callbacks.ModelCheckpoint(filepath='GRUs-300_retrain.h5', monitor='val_acc', save_best_only=True,)]\n",
        "\n",
        "\n",
        "history = model.fit(x_train, y_train, shuffle=True,\n",
        "                    epochs=200,\n",
        "                    batch_size=64,\n",
        "                    callbacks=callbacks_list,\n",
        "                    validation_data=(x_val, y_val))"
      ],
      "execution_count": null,
      "outputs": [
        {
          "output_type": "stream",
          "text": [
            "/Applications/anaconda3/lib/python3.7/site-packages/tensorflow_core/python/framework/indexed_slices.py:433: UserWarning: Converting sparse IndexedSlices to a dense Tensor of unknown shape. This may consume a large amount of memory.\n",
            "  \"Converting sparse IndexedSlices to a dense Tensor of unknown shape. \"\n"
          ],
          "name": "stderr"
        },
        {
          "output_type": "stream",
          "text": [
            "Train on 7000 samples, validate on 1982 samples\n",
            "Epoch 1/200\n",
            "7000/7000 [==============================] - 129s 18ms/step - loss: 0.6364 - acc: 0.8470 - val_loss: 0.7392 - val_acc: 0.8269\n",
            "Epoch 2/200\n",
            "7000/7000 [==============================] - 125s 18ms/step - loss: 0.5879 - acc: 0.8580 - val_loss: 0.7310 - val_acc: 0.8310\n",
            "Epoch 3/200\n",
            "7000/7000 [==============================] - 125s 18ms/step - loss: 0.5608 - acc: 0.8669 - val_loss: 0.7301 - val_acc: 0.8315\n",
            "Epoch 4/200\n",
            "7000/7000 [==============================] - 130s 19ms/step - loss: 0.5303 - acc: 0.8730 - val_loss: 0.7287 - val_acc: 0.8365\n",
            "Epoch 5/200\n",
            "7000/7000 [==============================] - 129s 18ms/step - loss: 0.4935 - acc: 0.8796 - val_loss: 0.7321 - val_acc: 0.8360\n",
            "Epoch 6/200\n",
            "7000/7000 [==============================] - 132s 19ms/step - loss: 0.4745 - acc: 0.8847 - val_loss: 0.7332 - val_acc: 0.8375\n",
            "Epoch 7/200\n",
            "7000/7000 [==============================] - 129s 18ms/step - loss: 0.4481 - acc: 0.8893 - val_loss: 0.7365 - val_acc: 0.8360\n",
            "Epoch 8/200\n",
            "7000/7000 [==============================] - 131s 19ms/step - loss: 0.4289 - acc: 0.8944 - val_loss: 0.7436 - val_acc: 0.8335\n",
            "Epoch 9/200\n",
            "7000/7000 [==============================] - 128s 18ms/step - loss: 0.4103 - acc: 0.8967 - val_loss: 0.7488 - val_acc: 0.8325\n",
            "Epoch 10/200\n",
            "7000/7000 [==============================] - 126s 18ms/step - loss: 0.3940 - acc: 0.9003 - val_loss: 0.7533 - val_acc: 0.8340\n",
            "Epoch 11/200\n",
            "7000/7000 [==============================] - 122s 17ms/step - loss: 0.3815 - acc: 0.9049 - val_loss: 0.7610 - val_acc: 0.8330\n",
            "Epoch 12/200\n",
            "7000/7000 [==============================] - 126s 18ms/step - loss: 0.3668 - acc: 0.9063 - val_loss: 0.7689 - val_acc: 0.8355\n",
            "Epoch 13/200\n",
            "7000/7000 [==============================] - 141s 20ms/step - loss: 0.3453 - acc: 0.9117 - val_loss: 0.7782 - val_acc: 0.8305\n",
            "Epoch 14/200\n",
            "7000/7000 [==============================] - 123s 18ms/step - loss: 0.3390 - acc: 0.9104 - val_loss: 0.7840 - val_acc: 0.8305\n"
          ],
          "name": "stdout"
        }
      ]
    },
    {
      "cell_type": "code",
      "metadata": {
        "id": "GXQ0GRFa9IGn",
        "outputId": "271838bb-6a48-40fc-c8b2-3d431af8d0c0"
      },
      "source": [
        "plot_history(history)"
      ],
      "execution_count": null,
      "outputs": [
        {
          "output_type": "display_data",
          "data": {
            "image/png": "[encoded data removed]",
            "text/plain": [
              "<Figure size 432x288 with 1 Axes>"
            ]
          },
          "metadata": {
            "tags": [],
            "needs_background": "light"
          }
        },
        {
          "output_type": "display_data",
          "data": {
            "image/png": "[encoded data removed]",
            "text/plain": [
              "<Figure size 432x288 with 1 Axes>"
            ]
          },
          "metadata": {
            "tags": [],
            "needs_background": "light"
          }
        }
      ]
    },
    {
      "cell_type": "code",
      "metadata": {
        "id": "L0gg77cH9IGq",
        "outputId": "f6eb8392-02cf-4e30-bf36-b9589f6f9995"
      },
      "source": [
        "model = keras.models.load_model('GRUs-300_retrain.h5')"
      ],
      "execution_count": null,
      "outputs": [
        {
          "output_type": "stream",
          "text": [
            "/Applications/anaconda3/lib/python3.7/site-packages/tensorflow_core/python/framework/indexed_slices.py:433: UserWarning: Converting sparse IndexedSlices to a dense Tensor of unknown shape. This may consume a large amount of memory.\n",
            "  \"Converting sparse IndexedSlices to a dense Tensor of unknown shape. \"\n"
          ],
          "name": "stderr"
        }
      ]
    },
    {
      "cell_type": "code",
      "metadata": {
        "id": "y43YXWzw9IGu"
      },
      "source": [
        "test_texts = []\n",
        "for data in test_data:\n",
        "    decoded_newswire = ' '.join([reverse_word_index.get(i - 3, '?') for i in data])\n",
        "    test_texts.append(decoded_newswire)\n",
        "sequences = tokenizer.texts_to_sequences(test_texts)\n",
        "test_data = pad_sequences(sequences, maxlen=maxlen)\n",
        "x_test = test_data\n",
        "y_test = one_hot_test_labels"
      ],
      "execution_count": null,
      "outputs": []
    },
    {
      "cell_type": "markdown",
      "metadata": {
        "id": "Oq8neLUF-7u9"
      },
      "source": [
        "Evaluating the model:"
      ]
    },
    {
      "cell_type": "code",
      "metadata": {
        "id": "xcQ1rRhk9IGy",
        "outputId": "0753ba9d-b503-4458-fab0-2a8d1e02fabf"
      },
      "source": [
        "model.evaluate(x_test, y_test)"
      ],
      "execution_count": null,
      "outputs": [
        {
          "output_type": "stream",
          "text": [
            "2246/2246 [==============================] - 11s 5ms/step\n"
          ],
          "name": "stdout"
        },
        {
          "output_type": "execute_result",
          "data": {
            "text/plain": [
              "[0.749587326100758, 0.8321460485458374]"
            ]
          },
          "metadata": {
            "tags": []
          },
          "execution_count": 25
        }
      ]
    },
    {
      "cell_type": "code",
      "metadata": {
        "id": "Ju07yV579IG3",
        "outputId": "259f5ef7-67d5-4efe-b559-9da2649f868f"
      },
      "source": [
        "words = ['earning', 'report', 'quarter', 'profit', 'top', 'estimate']\n",
        "for word in words:\n",
        "    print(word, word_index[word])"
      ],
      "execution_count": null,
      "outputs": [
        {
          "output_type": "stream",
          "text": [
            "earning 6286\n",
            "report 229\n",
            "quarter 95\n",
            "profit 71\n",
            "top 1111\n",
            "estimate 807\n"
          ],
          "name": "stdout"
        }
      ]
    },
    {
      "cell_type": "markdown",
      "metadata": {
        "id": "zPAFYXg1-6YQ"
      },
      "source": [
        "Test accuracy: 83%\n",
        "---\n"
      ]
    },
    {
      "cell_type": "code",
      "metadata": {
        "id": "kSUKfyMR_12o"
      },
      "source": [
        ""
      ],
      "execution_count": null,
      "outputs": []
    }
  ]
}