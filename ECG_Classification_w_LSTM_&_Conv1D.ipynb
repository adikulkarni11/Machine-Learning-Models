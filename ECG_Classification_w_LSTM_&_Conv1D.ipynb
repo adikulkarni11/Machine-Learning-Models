{
  "nbformat": 4,
  "nbformat_minor": 0,
  "metadata": {
    "kernelspec": {
      "display_name": "Python 3",
      "language": "python",
      "name": "python3"
    },
    "language_info": {
      "codemirror_mode": {
        "name": "ipython",
        "version": 3
      },
      "file_extension": ".py",
      "mimetype": "text/x-python",
      "name": "python",
      "nbconvert_exporter": "python",
      "pygments_lexer": "ipython3",
      "version": "3.7.4"
    },
    "colab": {
      "name": "ECG Classification w/ LSTM & Conv1D.ipynb",
      "provenance": [],
      "include_colab_link": true
    }
  },
  "cells": [
    {
      "cell_type": "markdown",
      "metadata": {
        "id": "view-in-github",
        "colab_type": "text"
      },
      "source": [
        "<a href=\"https://colab.research.google.com/github/adikulkarni11/Machine-Learning-Models/blob/main/ECG_Classification_w_LSTM_%26_Conv1D.ipynb\" target=\"_parent\"><img src=\"https://colab.research.google.com/assets/colab-badge.svg\" alt=\"Open In Colab\"/></a>"
      ]
    },
    {
      "cell_type": "markdown",
      "metadata": {
        "id": "JO6Uvg-N9TOP"
      },
      "source": [
        "In this problem, we classify ecg signals from two people. ‘001a.csv’ is from person one, and ‘002a.csv’ is from person two. These two files have the same format, each contains 1,000 measurements per second from 9 sensors. The measurements for these 9 sensors are labeled x, x1, x2, x3, x4, x5, x6, x7, x8. There are 5 minutes of data in total. Therefore, the number of rows in each file is 300,000. The first 200,000 rows of data are used for training and the rest are used for testing.\n",
        "We train and test our classifier using 1-second segments of the ecg signals.\n",
        "We use both Conv1D and LSTM models and compare their performances."
      ]
    },
    {
      "cell_type": "code",
      "metadata": {
        "id": "mVuYpQuR_yqF",
        "colab": {
          "base_uri": "https://localhost:8080/",
          "height": 351
        },
        "outputId": "335b87ec-672b-44ae-db01-b1a6203df92c"
      },
      "source": [
        "!unzip final-student-download.zip"
      ],
      "execution_count": null,
      "outputs": [
        {
          "output_type": "stream",
          "text": [
            "Archive:  final-student-download.zip\n",
            "   creating: final-student-download/\n",
            "  inflating: final-student-download/ecg_LSTM.h5  \n",
            "  inflating: final-student-download/ecg_classification.ipynb  \n",
            "  inflating: final-student-download/ecg_test4.csv  \n",
            "  inflating: final-student-download/ecg_test5.csv  \n",
            "  inflating: final-student-download/reuters newswire.ipynb  \n",
            "  inflating: final-student-download/ecg_test2.csv  \n",
            "  inflating: final-student-download/ecg_test3.csv  \n",
            "  inflating: final-student-download/ecg_test1.csv  \n",
            "  inflating: final-student-download/GRUs-300.h5  \n",
            "  inflating: final-student-download/ecg_Conv1D.h5  \n",
            "  inflating: final-student-download/letter-recognition.data.csv  \n",
            "  inflating: final-student-download/letter_recognition.ipynb  \n",
            "   creating: final-student-download/.ipynb_checkpoints/\n",
            "  inflating: final-student-download/.ipynb_checkpoints/reuters newswire-checkpoint.ipynb  \n",
            "  inflating: final-student-download/.ipynb_checkpoints/letter_recognition-checkpoint.ipynb  \n",
            "  inflating: final-student-download/.ipynb_checkpoints/ecg_classification-checkpoint.ipynb  \n",
            "  inflating: final-student-download/GRUs-300_retrain.h5  \n"
          ],
          "name": "stdout"
        }
      ]
    },
    {
      "cell_type": "code",
      "metadata": {
        "id": "nIZjtfv69TOS",
        "colab": {
          "base_uri": "https://localhost:8080/",
          "height": 72
        },
        "outputId": "3c5a9ce6-f2be-442a-876c-79f41af5ad7e"
      },
      "source": [
        "import numpy as np\n",
        "import pandas as pd\n",
        "get_ipython().magic('matplotlib inline')\n",
        "import seaborn; seaborn.set()\n",
        "import matplotlib.pyplot as plt\n",
        "from tensorflow import keras\n",
        "\n",
        "\n",
        "from os import listdir\n",
        "from os.path import isfile, join\n",
        "mypath = '/content/'"
      ],
      "execution_count": null,
      "outputs": [
        {
          "output_type": "stream",
          "text": [
            "/usr/local/lib/python3.6/dist-packages/statsmodels/tools/_testing.py:19: FutureWarning: pandas.util.testing is deprecated. Use the functions in the public API at pandas.testing instead.\n",
            "  import pandas.util.testing as tm\n"
          ],
          "name": "stderr"
        }
      ]
    },
    {
      "cell_type": "code",
      "metadata": {
        "id": "M3k38if59TOa"
      },
      "source": [
        "fname ='001a.csv'\n",
        "file = mypath + fname\n",
        "data = pd.read_csv(file, header=None)\n",
        "data = data.dropna()\n",
        "data.columns = ['tick', 'x', 'x1', 'x2', 'x3', 'x4', 'x5', 'x6', 'x7', 'x8']"
      ],
      "execution_count": null,
      "outputs": []
    },
    {
      "cell_type": "code",
      "metadata": {
        "id": "GxZo20969TOk",
        "outputId": "8c1420f0-da27-43af-e82b-0aa1005fdd7b"
      },
      "source": [
        "data.head()"
      ],
      "execution_count": null,
      "outputs": [
        {
          "output_type": "execute_result",
          "data": {
            "text/html": [
              "<div>\n",
              "<style scoped>\n",
              "    .dataframe tbody tr th:only-of-type {\n",
              "        vertical-align: middle;\n",
              "    }\n",
              "\n",
              "    .dataframe tbody tr th {\n",
              "        vertical-align: top;\n",
              "    }\n",
              "\n",
              "    .dataframe thead th {\n",
              "        text-align: right;\n",
              "    }\n",
              "</style>\n",
              "<table border=\"1\" class=\"dataframe\">\n",
              "  <thead>\n",
              "    <tr style=\"text-align: right;\">\n",
              "      <th></th>\n",
              "      <th>tick</th>\n",
              "      <th>x</th>\n",
              "      <th>x1</th>\n",
              "      <th>x2</th>\n",
              "      <th>x3</th>\n",
              "      <th>x4</th>\n",
              "      <th>x5</th>\n",
              "      <th>x6</th>\n",
              "      <th>x7</th>\n",
              "      <th>x8</th>\n",
              "    </tr>\n",
              "  </thead>\n",
              "  <tbody>\n",
              "    <tr>\n",
              "      <td>0</td>\n",
              "      <td>0.0</td>\n",
              "      <td>0.030000</td>\n",
              "      <td>-0.034375</td>\n",
              "      <td>-0.223750</td>\n",
              "      <td>0.025000</td>\n",
              "      <td>-0.081875</td>\n",
              "      <td>-0.146250</td>\n",
              "      <td>0.071250</td>\n",
              "      <td>0.073750</td>\n",
              "      <td>0.000625</td>\n",
              "    </tr>\n",
              "    <tr>\n",
              "      <td>1</td>\n",
              "      <td>1.0</td>\n",
              "      <td>0.026250</td>\n",
              "      <td>-0.035625</td>\n",
              "      <td>-0.225000</td>\n",
              "      <td>0.021250</td>\n",
              "      <td>-0.090000</td>\n",
              "      <td>-0.145625</td>\n",
              "      <td>0.075625</td>\n",
              "      <td>0.080000</td>\n",
              "      <td>0.004375</td>\n",
              "    </tr>\n",
              "    <tr>\n",
              "      <td>2</td>\n",
              "      <td>2.0</td>\n",
              "      <td>0.028125</td>\n",
              "      <td>-0.034375</td>\n",
              "      <td>-0.225000</td>\n",
              "      <td>0.020000</td>\n",
              "      <td>-0.098125</td>\n",
              "      <td>-0.140625</td>\n",
              "      <td>0.081250</td>\n",
              "      <td>0.083750</td>\n",
              "      <td>0.001875</td>\n",
              "    </tr>\n",
              "    <tr>\n",
              "      <td>3</td>\n",
              "      <td>3.0</td>\n",
              "      <td>0.036250</td>\n",
              "      <td>-0.034375</td>\n",
              "      <td>-0.225625</td>\n",
              "      <td>0.020000</td>\n",
              "      <td>-0.097500</td>\n",
              "      <td>-0.138750</td>\n",
              "      <td>0.083125</td>\n",
              "      <td>0.080000</td>\n",
              "      <td>-0.003750</td>\n",
              "    </tr>\n",
              "    <tr>\n",
              "      <td>4</td>\n",
              "      <td>4.0</td>\n",
              "      <td>0.036250</td>\n",
              "      <td>-0.036875</td>\n",
              "      <td>-0.228750</td>\n",
              "      <td>0.018125</td>\n",
              "      <td>-0.086250</td>\n",
              "      <td>-0.140000</td>\n",
              "      <td>0.078750</td>\n",
              "      <td>0.071875</td>\n",
              "      <td>-0.008125</td>\n",
              "    </tr>\n",
              "  </tbody>\n",
              "</table>\n",
              "</div>"
            ],
            "text/plain": [
              "   tick         x        x1        x2        x3        x4        x5        x6  \\\n",
              "0   0.0  0.030000 -0.034375 -0.223750  0.025000 -0.081875 -0.146250  0.071250   \n",
              "1   1.0  0.026250 -0.035625 -0.225000  0.021250 -0.090000 -0.145625  0.075625   \n",
              "2   2.0  0.028125 -0.034375 -0.225000  0.020000 -0.098125 -0.140625  0.081250   \n",
              "3   3.0  0.036250 -0.034375 -0.225625  0.020000 -0.097500 -0.138750  0.083125   \n",
              "4   4.0  0.036250 -0.036875 -0.228750  0.018125 -0.086250 -0.140000  0.078750   \n",
              "\n",
              "         x7        x8  \n",
              "0  0.073750  0.000625  \n",
              "1  0.080000  0.004375  \n",
              "2  0.083750  0.001875  \n",
              "3  0.080000 -0.003750  \n",
              "4  0.071875 -0.008125  "
            ]
          },
          "metadata": {
            "tags": []
          },
          "execution_count": 3
        }
      ]
    },
    {
      "cell_type": "code",
      "metadata": {
        "id": "Fep_qy-D9TOq",
        "outputId": "6232a717-a3a6-4416-db37-36de27ca3250"
      },
      "source": [
        "data.describe()"
      ],
      "execution_count": null,
      "outputs": [
        {
          "output_type": "execute_result",
          "data": {
            "text/html": [
              "<div>\n",
              "<style scoped>\n",
              "    .dataframe tbody tr th:only-of-type {\n",
              "        vertical-align: middle;\n",
              "    }\n",
              "\n",
              "    .dataframe tbody tr th {\n",
              "        vertical-align: top;\n",
              "    }\n",
              "\n",
              "    .dataframe thead th {\n",
              "        text-align: right;\n",
              "    }\n",
              "</style>\n",
              "<table border=\"1\" class=\"dataframe\">\n",
              "  <thead>\n",
              "    <tr style=\"text-align: right;\">\n",
              "      <th></th>\n",
              "      <th>tick</th>\n",
              "      <th>x</th>\n",
              "      <th>x1</th>\n",
              "      <th>x2</th>\n",
              "      <th>x3</th>\n",
              "      <th>x4</th>\n",
              "      <th>x5</th>\n",
              "      <th>x6</th>\n",
              "      <th>x7</th>\n",
              "      <th>x8</th>\n",
              "    </tr>\n",
              "  </thead>\n",
              "  <tbody>\n",
              "    <tr>\n",
              "      <td>count</td>\n",
              "      <td>300000.000000</td>\n",
              "      <td>300000.000000</td>\n",
              "      <td>300000.000000</td>\n",
              "      <td>300000.000000</td>\n",
              "      <td>300000.000000</td>\n",
              "      <td>300000.000000</td>\n",
              "      <td>300000.000000</td>\n",
              "      <td>300000.000000</td>\n",
              "      <td>300000.000000</td>\n",
              "      <td>300000.000000</td>\n",
              "    </tr>\n",
              "    <tr>\n",
              "      <td>mean</td>\n",
              "      <td>499.500000</td>\n",
              "      <td>0.019820</td>\n",
              "      <td>-0.039967</td>\n",
              "      <td>-0.171953</td>\n",
              "      <td>-0.003333</td>\n",
              "      <td>0.015396</td>\n",
              "      <td>-0.069176</td>\n",
              "      <td>0.016106</td>\n",
              "      <td>-0.075709</td>\n",
              "      <td>-0.091822</td>\n",
              "    </tr>\n",
              "    <tr>\n",
              "      <td>std</td>\n",
              "      <td>288.675471</td>\n",
              "      <td>0.170410</td>\n",
              "      <td>0.209809</td>\n",
              "      <td>0.217812</td>\n",
              "      <td>0.278361</td>\n",
              "      <td>0.192723</td>\n",
              "      <td>0.217819</td>\n",
              "      <td>0.105982</td>\n",
              "      <td>0.100607</td>\n",
              "      <td>0.087514</td>\n",
              "    </tr>\n",
              "    <tr>\n",
              "      <td>min</td>\n",
              "      <td>0.000000</td>\n",
              "      <td>-1.057500</td>\n",
              "      <td>-1.580625</td>\n",
              "      <td>-1.673750</td>\n",
              "      <td>-1.526875</td>\n",
              "      <td>-0.438125</td>\n",
              "      <td>-0.419375</td>\n",
              "      <td>-0.288125</td>\n",
              "      <td>-0.435625</td>\n",
              "      <td>-0.646875</td>\n",
              "    </tr>\n",
              "    <tr>\n",
              "      <td>25%</td>\n",
              "      <td>249.750000</td>\n",
              "      <td>0.018750</td>\n",
              "      <td>-0.054375</td>\n",
              "      <td>-0.208125</td>\n",
              "      <td>-0.053125</td>\n",
              "      <td>-0.086875</td>\n",
              "      <td>-0.173750</td>\n",
              "      <td>-0.030000</td>\n",
              "      <td>-0.136250</td>\n",
              "      <td>-0.132500</td>\n",
              "    </tr>\n",
              "    <tr>\n",
              "      <td>50%</td>\n",
              "      <td>499.500000</td>\n",
              "      <td>0.048125</td>\n",
              "      <td>-0.011875</td>\n",
              "      <td>-0.162500</td>\n",
              "      <td>-0.005000</td>\n",
              "      <td>-0.011875</td>\n",
              "      <td>-0.106250</td>\n",
              "      <td>0.003750</td>\n",
              "      <td>-0.085000</td>\n",
              "      <td>-0.086250</td>\n",
              "    </tr>\n",
              "    <tr>\n",
              "      <td>75%</td>\n",
              "      <td>749.250000</td>\n",
              "      <td>0.090000</td>\n",
              "      <td>0.035000</td>\n",
              "      <td>-0.111875</td>\n",
              "      <td>0.041875</td>\n",
              "      <td>0.075625</td>\n",
              "      <td>-0.034375</td>\n",
              "      <td>0.035000</td>\n",
              "      <td>-0.027500</td>\n",
              "      <td>-0.041875</td>\n",
              "    </tr>\n",
              "    <tr>\n",
              "      <td>max</td>\n",
              "      <td>999.000000</td>\n",
              "      <td>0.235000</td>\n",
              "      <td>0.377500</td>\n",
              "      <td>0.757500</td>\n",
              "      <td>2.094375</td>\n",
              "      <td>1.471875</td>\n",
              "      <td>1.397500</td>\n",
              "      <td>0.760625</td>\n",
              "      <td>0.478750</td>\n",
              "      <td>0.236250</td>\n",
              "    </tr>\n",
              "  </tbody>\n",
              "</table>\n",
              "</div>"
            ],
            "text/plain": [
              "                tick              x             x1             x2  \\\n",
              "count  300000.000000  300000.000000  300000.000000  300000.000000   \n",
              "mean      499.500000       0.019820      -0.039967      -0.171953   \n",
              "std       288.675471       0.170410       0.209809       0.217812   \n",
              "min         0.000000      -1.057500      -1.580625      -1.673750   \n",
              "25%       249.750000       0.018750      -0.054375      -0.208125   \n",
              "50%       499.500000       0.048125      -0.011875      -0.162500   \n",
              "75%       749.250000       0.090000       0.035000      -0.111875   \n",
              "max       999.000000       0.235000       0.377500       0.757500   \n",
              "\n",
              "                  x3             x4             x5             x6  \\\n",
              "count  300000.000000  300000.000000  300000.000000  300000.000000   \n",
              "mean       -0.003333       0.015396      -0.069176       0.016106   \n",
              "std         0.278361       0.192723       0.217819       0.105982   \n",
              "min        -1.526875      -0.438125      -0.419375      -0.288125   \n",
              "25%        -0.053125      -0.086875      -0.173750      -0.030000   \n",
              "50%        -0.005000      -0.011875      -0.106250       0.003750   \n",
              "75%         0.041875       0.075625      -0.034375       0.035000   \n",
              "max         2.094375       1.471875       1.397500       0.760625   \n",
              "\n",
              "                  x7             x8  \n",
              "count  300000.000000  300000.000000  \n",
              "mean       -0.075709      -0.091822  \n",
              "std         0.100607       0.087514  \n",
              "min        -0.435625      -0.646875  \n",
              "25%        -0.136250      -0.132500  \n",
              "50%        -0.085000      -0.086250  \n",
              "75%        -0.027500      -0.041875  \n",
              "max         0.478750       0.236250  "
            ]
          },
          "metadata": {
            "tags": []
          },
          "execution_count": 4
        }
      ]
    },
    {
      "cell_type": "code",
      "metadata": {
        "id": "GNsrg9Ga9TOw",
        "outputId": "3e46670d-6172-42f6-a246-411833b86ee0"
      },
      "source": [
        "fname ='002a.csv'\n",
        "file = mypath + fname\n",
        "data1 = pd.read_csv(file, header=None)\n",
        "data1 = data1.dropna()\n",
        "data1.columns = ['tick', 'x', 'x1', 'x2', 'x3', 'x4', 'x5', 'x6', 'x7', 'x8']\n",
        "data1.head()"
      ],
      "execution_count": null,
      "outputs": [
        {
          "output_type": "execute_result",
          "data": {
            "text/html": [
              "<div>\n",
              "<style scoped>\n",
              "    .dataframe tbody tr th:only-of-type {\n",
              "        vertical-align: middle;\n",
              "    }\n",
              "\n",
              "    .dataframe tbody tr th {\n",
              "        vertical-align: top;\n",
              "    }\n",
              "\n",
              "    .dataframe thead th {\n",
              "        text-align: right;\n",
              "    }\n",
              "</style>\n",
              "<table border=\"1\" class=\"dataframe\">\n",
              "  <thead>\n",
              "    <tr style=\"text-align: right;\">\n",
              "      <th></th>\n",
              "      <th>tick</th>\n",
              "      <th>x</th>\n",
              "      <th>x1</th>\n",
              "      <th>x2</th>\n",
              "      <th>x3</th>\n",
              "      <th>x4</th>\n",
              "      <th>x5</th>\n",
              "      <th>x6</th>\n",
              "      <th>x7</th>\n",
              "      <th>x8</th>\n",
              "    </tr>\n",
              "  </thead>\n",
              "  <tbody>\n",
              "    <tr>\n",
              "      <td>0</td>\n",
              "      <td>0.0</td>\n",
              "      <td>0.093125</td>\n",
              "      <td>0.155000</td>\n",
              "      <td>0.071250</td>\n",
              "      <td>0.110625</td>\n",
              "      <td>-0.036875</td>\n",
              "      <td>-0.475625</td>\n",
              "      <td>-0.005625</td>\n",
              "      <td>-0.221250</td>\n",
              "      <td>-0.215625</td>\n",
              "    </tr>\n",
              "    <tr>\n",
              "      <td>1</td>\n",
              "      <td>1.0</td>\n",
              "      <td>0.093750</td>\n",
              "      <td>0.153750</td>\n",
              "      <td>0.071250</td>\n",
              "      <td>0.110000</td>\n",
              "      <td>-0.037500</td>\n",
              "      <td>-0.473750</td>\n",
              "      <td>-0.003750</td>\n",
              "      <td>-0.221250</td>\n",
              "      <td>-0.218125</td>\n",
              "    </tr>\n",
              "    <tr>\n",
              "      <td>2</td>\n",
              "      <td>2.0</td>\n",
              "      <td>0.093125</td>\n",
              "      <td>0.151250</td>\n",
              "      <td>0.069375</td>\n",
              "      <td>0.109375</td>\n",
              "      <td>-0.040625</td>\n",
              "      <td>-0.472500</td>\n",
              "      <td>-0.002500</td>\n",
              "      <td>-0.225000</td>\n",
              "      <td>-0.222500</td>\n",
              "    </tr>\n",
              "    <tr>\n",
              "      <td>3</td>\n",
              "      <td>3.0</td>\n",
              "      <td>0.092500</td>\n",
              "      <td>0.149375</td>\n",
              "      <td>0.067500</td>\n",
              "      <td>0.107500</td>\n",
              "      <td>-0.045000</td>\n",
              "      <td>-0.473125</td>\n",
              "      <td>-0.003750</td>\n",
              "      <td>-0.226875</td>\n",
              "      <td>-0.221250</td>\n",
              "    </tr>\n",
              "    <tr>\n",
              "      <td>4</td>\n",
              "      <td>4.0</td>\n",
              "      <td>0.093750</td>\n",
              "      <td>0.150000</td>\n",
              "      <td>0.066875</td>\n",
              "      <td>0.105625</td>\n",
              "      <td>-0.047500</td>\n",
              "      <td>-0.475000</td>\n",
              "      <td>-0.006250</td>\n",
              "      <td>-0.225000</td>\n",
              "      <td>-0.218125</td>\n",
              "    </tr>\n",
              "  </tbody>\n",
              "</table>\n",
              "</div>"
            ],
            "text/plain": [
              "   tick         x        x1        x2        x3        x4        x5        x6  \\\n",
              "0   0.0  0.093125  0.155000  0.071250  0.110625 -0.036875 -0.475625 -0.005625   \n",
              "1   1.0  0.093750  0.153750  0.071250  0.110000 -0.037500 -0.473750 -0.003750   \n",
              "2   2.0  0.093125  0.151250  0.069375  0.109375 -0.040625 -0.472500 -0.002500   \n",
              "3   3.0  0.092500  0.149375  0.067500  0.107500 -0.045000 -0.473125 -0.003750   \n",
              "4   4.0  0.093750  0.150000  0.066875  0.105625 -0.047500 -0.475000 -0.006250   \n",
              "\n",
              "         x7        x8  \n",
              "0 -0.221250 -0.215625  \n",
              "1 -0.221250 -0.218125  \n",
              "2 -0.225000 -0.222500  \n",
              "3 -0.226875 -0.221250  \n",
              "4 -0.225000 -0.218125  "
            ]
          },
          "metadata": {
            "tags": []
          },
          "execution_count": 5
        }
      ]
    },
    {
      "cell_type": "code",
      "metadata": {
        "id": "aDoCMG0g9TO2",
        "outputId": "199b7937-7fea-4cb2-d108-fc5fb740bff8"
      },
      "source": [
        "plt.plot(data.x1[:5000]);\n",
        "plt.plot(data1.x1[:5000]);"
      ],
      "execution_count": null,
      "outputs": [
        {
          "output_type": "display_data",
          "data": {
            "image/png": "[encoded data removed]",
            "text/plain": [
              "<Figure size 432x288 with 1 Axes>"
            ]
          },
          "metadata": {
            "tags": [],
            "needs_background": "light"
          }
        }
      ]
    },
    {
      "cell_type": "code",
      "metadata": {
        "id": "ggjJXjlc9TPB",
        "outputId": "49ecb822-60b6-4d5d-a650-4b2f2781d19e"
      },
      "source": [
        "plt.plot(data.x2[:5000]);\n",
        "plt.plot(data1.x2[:5000]);"
      ],
      "execution_count": null,
      "outputs": [
        {
          "output_type": "display_data",
          "data": {
            "image/png": "[encoded data removed]",
            "text/plain": [
              "<Figure size 432x288 with 1 Axes>"
            ]
          },
          "metadata": {
            "tags": [],
            "needs_background": "light"
          }
        }
      ]
    },
    {
      "cell_type": "code",
      "metadata": {
        "id": "HRmHskzN9TPK",
        "outputId": "80663fa8-c7b6-4168-fd58-9ce6678cc4da"
      },
      "source": [
        "plt.plot(data.x3[:5000]);\n",
        "plt.plot(data1.x3[:5000]);"
      ],
      "execution_count": null,
      "outputs": [
        {
          "output_type": "display_data",
          "data": {
            "image/png": "[encoded data removed]",
            "text/plain": [
              "<Figure size 432x288 with 1 Axes>"
            ]
          },
          "metadata": {
            "tags": [],
            "needs_background": "light"
          }
        }
      ]
    },
    {
      "cell_type": "code",
      "metadata": {
        "id": "vKPkA7hf9TPN",
        "outputId": "66d0ea47-04a8-4724-df2d-e9223e85932d"
      },
      "source": [
        "plt.plot(data.x4[:5000]);\n",
        "plt.plot(data1.x4[:5000]);"
      ],
      "execution_count": null,
      "outputs": [
        {
          "output_type": "display_data",
          "data": {
            "image/png": "[encoded data removed]",
            "text/plain": [
              "<Figure size 432x288 with 1 Axes>"
            ]
          },
          "metadata": {
            "tags": [],
            "needs_background": "light"
          }
        }
      ]
    },
    {
      "cell_type": "code",
      "metadata": {
        "id": "WYinXsaA9TPS"
      },
      "source": [
        "float_data = np.array(data)"
      ],
      "execution_count": null,
      "outputs": []
    },
    {
      "cell_type": "code",
      "metadata": {
        "id": "pmiY50qp9TPY"
      },
      "source": [
        "float_data = float_data[:, 1:]"
      ],
      "execution_count": null,
      "outputs": []
    },
    {
      "cell_type": "code",
      "metadata": {
        "id": "Nl2MGjjm9TPn",
        "outputId": "fb943f58-0b41-451a-d235-25e19093bfc6"
      },
      "source": [
        "float_data.shape"
      ],
      "execution_count": null,
      "outputs": [
        {
          "output_type": "execute_result",
          "data": {
            "text/plain": [
              "(300000, 9)"
            ]
          },
          "metadata": {
            "tags": []
          },
          "execution_count": 12
        }
      ]
    },
    {
      "cell_type": "code",
      "metadata": {
        "id": "cpSxb40N9TPv",
        "outputId": "e784848c-7ba1-48cf-83e6-621762371761"
      },
      "source": [
        "float_data1 = np.array(data1)\n",
        "float_data1 = float_data1[:, 1:]\n",
        "float_data1.shape"
      ],
      "execution_count": null,
      "outputs": [
        {
          "output_type": "execute_result",
          "data": {
            "text/plain": [
              "(300000, 9)"
            ]
          },
          "metadata": {
            "tags": []
          },
          "execution_count": 13
        }
      ]
    },
    {
      "cell_type": "code",
      "metadata": {
        "id": "SqTdQQ869TPy"
      },
      "source": [
        "freq = 1000\n",
        "def sample(n, duration, data):\n",
        "    samples = []\n",
        "    for i in range(n):\n",
        "        rand = np.random.randint(data.shape[0] - freq*duration)\n",
        "        samples.append(data[rand: rand+freq*duration, :])\n",
        "    return np.array(samples)"
      ],
      "execution_count": null,
      "outputs": []
    },
    {
      "cell_type": "code",
      "metadata": {
        "id": "6NekoYja9TP5"
      },
      "source": [
        "x_train = sample(2000, 1, float_data[:200000])"
      ],
      "execution_count": null,
      "outputs": []
    },
    {
      "cell_type": "code",
      "metadata": {
        "id": "4LYjdLvg9TP-",
        "outputId": "b4860f89-4c4b-4908-87f1-42bdc1f0a22c"
      },
      "source": [
        "x_train.shape"
      ],
      "execution_count": null,
      "outputs": [
        {
          "output_type": "execute_result",
          "data": {
            "text/plain": [
              "(2000, 1000, 9)"
            ]
          },
          "metadata": {
            "tags": []
          },
          "execution_count": 16
        }
      ]
    },
    {
      "cell_type": "code",
      "metadata": {
        "id": "3sic71Jg9TQC"
      },
      "source": [
        "y_train = np.zeros(x_train.shape[0])"
      ],
      "execution_count": null,
      "outputs": []
    },
    {
      "cell_type": "code",
      "metadata": {
        "id": "CDDMaKYi9TQJ",
        "outputId": "10cfb1ad-a60a-4edc-fc24-ad4ba1a28cba"
      },
      "source": [
        "y_train"
      ],
      "execution_count": null,
      "outputs": [
        {
          "output_type": "execute_result",
          "data": {
            "text/plain": [
              "array([0., 0., 0., ..., 0., 0., 0.])"
            ]
          },
          "metadata": {
            "tags": []
          },
          "execution_count": 18
        }
      ]
    },
    {
      "cell_type": "code",
      "metadata": {
        "id": "VXSnn7EO9TQO"
      },
      "source": [
        "x_train1 = sample(2000, 1, float_data1[:200000])"
      ],
      "execution_count": null,
      "outputs": []
    },
    {
      "cell_type": "code",
      "metadata": {
        "id": "Lb6WGwoa9TQS"
      },
      "source": [
        "y_train1 = np.ones(x_train1.shape[0])"
      ],
      "execution_count": null,
      "outputs": []
    },
    {
      "cell_type": "code",
      "metadata": {
        "id": "m2LwHTkl9TQW",
        "outputId": "9dce895d-e135-4da6-a4b5-19695fdd14a4"
      },
      "source": [
        "y_train1"
      ],
      "execution_count": null,
      "outputs": [
        {
          "output_type": "execute_result",
          "data": {
            "text/plain": [
              "array([1., 1., 1., ..., 1., 1., 1.])"
            ]
          },
          "metadata": {
            "tags": []
          },
          "execution_count": 21
        }
      ]
    },
    {
      "cell_type": "code",
      "metadata": {
        "id": "OgDf5J819TQd"
      },
      "source": [
        "x_train = np.concatenate((x_train, x_train1), axis=0)"
      ],
      "execution_count": null,
      "outputs": []
    },
    {
      "cell_type": "code",
      "metadata": {
        "id": "XvOZ7HMp9TQw",
        "outputId": "bde0bd55-e7e6-4dfb-f7f3-80f7cd8e57d8"
      },
      "source": [
        "x_train.shape"
      ],
      "execution_count": null,
      "outputs": [
        {
          "output_type": "execute_result",
          "data": {
            "text/plain": [
              "(4000, 1000, 9)"
            ]
          },
          "metadata": {
            "tags": []
          },
          "execution_count": 23
        }
      ]
    },
    {
      "cell_type": "code",
      "metadata": {
        "id": "R9L2nKNR9TQ3"
      },
      "source": [
        "y_train = np.concatenate((y_train, y_train1), axis=0)"
      ],
      "execution_count": null,
      "outputs": []
    },
    {
      "cell_type": "code",
      "metadata": {
        "id": "6ZkaYbi09TQ_",
        "outputId": "02a809de-5888-4025-f5cd-7983cf64ee04"
      },
      "source": [
        "y_train.shape"
      ],
      "execution_count": null,
      "outputs": [
        {
          "output_type": "execute_result",
          "data": {
            "text/plain": [
              "(4000,)"
            ]
          },
          "metadata": {
            "tags": []
          },
          "execution_count": 25
        }
      ]
    },
    {
      "cell_type": "code",
      "metadata": {
        "id": "8b-IbZkF9TRJ"
      },
      "source": [
        "indices = np.arange(x_train.shape[0])\n",
        "np.random.shuffle(indices)\n",
        "x_train = x_train[indices]\n",
        "y_train = y_train[indices]"
      ],
      "execution_count": null,
      "outputs": []
    },
    {
      "cell_type": "code",
      "metadata": {
        "id": "-Nur_IgE9TRP"
      },
      "source": [
        "x_test = sample(2000, 1, float_data[200000:])\n",
        "y_test = np.zeros(x_test.shape[0])\n",
        "x_test1 = sample(2000, 1, float_data1[200000:])\n",
        "y_test1 = np.ones(x_test1.shape[0])\n",
        "x_test = np.concatenate((x_test, x_test1), axis=0)\n",
        "y_test = np.concatenate((y_test, y_test1), axis=0)"
      ],
      "execution_count": null,
      "outputs": []
    },
    {
      "cell_type": "code",
      "metadata": {
        "id": "JX1tvcRo9TRR",
        "outputId": "77671f24-9ac0-447e-a5e1-d503b7836030"
      },
      "source": [
        "from keras import layers\n",
        "from keras import models\n",
        "\n",
        "model = models.Sequential()\n",
        "model.add(layers.Conv1D(32, 5, activation='relu', input_shape=(, )))\n",
        "model.add(layers.MaxPooling1D())\n",
        "model.add(layers.Conv1D(32, 5, activation='relu'))\n",
        "model.add(layers.GlobalMaxPooling1D())\n",
        "model.add(layers.Dense(512, activation='relu'))\n",
        "model.add(layers.Dense(, activation=''))"
      ],
      "execution_count": null,
      "outputs": [
        {
          "output_type": "stream",
          "text": [
            "Using TensorFlow backend.\n"
          ],
          "name": "stderr"
        }
      ]
    },
    {
      "cell_type": "code",
      "metadata": {
        "id": "Zktp7L4U9TRU",
        "outputId": "bfb3f250-7748-4f99-889d-2ed6dfb883ec"
      },
      "source": [
        "model.summary()"
      ],
      "execution_count": null,
      "outputs": [
        {
          "output_type": "stream",
          "text": [
            "Model: \"sequential_1\"\n",
            "_________________________________________________________________\n",
            "Layer (type)                 Output Shape              Param #   \n",
            "=================================================================\n",
            "conv1d_1 (Conv1D)            (None, 996, 32)           1472      \n",
            "_________________________________________________________________\n",
            "max_pooling1d_1 (MaxPooling1 (None, 498, 32)           0         \n",
            "_________________________________________________________________\n",
            "conv1d_2 (Conv1D)            (None, 494, 32)           5152      \n",
            "_________________________________________________________________\n",
            "global_max_pooling1d_1 (Glob (None, 32)                0         \n",
            "_________________________________________________________________\n",
            "dense_1 (Dense)              (None, 512)               16896     \n",
            "_________________________________________________________________\n",
            "dense_2 (Dense)              (None, 1)                 513       \n",
            "=================================================================\n",
            "Total params: 24,033\n",
            "Trainable params: 24,033\n",
            "Non-trainable params: 0\n",
            "_________________________________________________________________\n"
          ],
          "name": "stdout"
        }
      ]
    },
    {
      "cell_type": "code",
      "metadata": {
        "id": "9zf7HUXl9TRa"
      },
      "source": [
        "from keras import optimizers\n",
        "\n",
        "model.compile(loss='',\n",
        "              optimizer=optimizers.RMSprop(lr=1e-4),\n",
        "              metrics=['acc'])"
      ],
      "execution_count": null,
      "outputs": []
    },
    {
      "cell_type": "code",
      "metadata": {
        "id": "lk8tVEg39TRg",
        "outputId": "76f51132-9776-4f7f-f56a-a88ed6b2a764"
      },
      "source": [
        "history = model.fit(x_train, y_train, shuffle=True,\n",
        "                    epochs=10,\n",
        "                    batch_size=32,\n",
        "                    validation_split=0.2)"
      ],
      "execution_count": null,
      "outputs": [
        {
          "output_type": "stream",
          "text": [
            "Train on 3200 samples, validate on 800 samples\n",
            "Epoch 1/10\n",
            "3200/3200 [==============================] - 2s 634us/step - loss: 0.4295 - acc: 0.9828 - val_loss: 0.2162 - val_acc: 0.9987\n",
            "Epoch 2/10\n",
            "3200/3200 [==============================] - 2s 565us/step - loss: 0.1098 - acc: 0.9972 - val_loss: 0.0326 - val_acc: 0.9987\n",
            "Epoch 3/10\n",
            "3200/3200 [==============================] - 2s 565us/step - loss: 0.0154 - acc: 0.9991 - val_loss: 0.0035 - val_acc: 1.0000\n",
            "Epoch 4/10\n",
            "3200/3200 [==============================] - 2s 562us/step - loss: 0.0015 - acc: 1.0000 - val_loss: 2.7867e-04 - val_acc: 1.0000\n",
            "Epoch 5/10\n",
            "3200/3200 [==============================] - 2s 568us/step - loss: 9.3428e-05 - acc: 1.0000 - val_loss: 1.2267e-05 - val_acc: 1.0000\n",
            "Epoch 6/10\n",
            "3200/3200 [==============================] - 2s 537us/step - loss: 3.6878e-06 - acc: 1.0000 - val_loss: 5.1739e-07 - val_acc: 1.0000\n",
            "Epoch 7/10\n",
            "3200/3200 [==============================] - 2s 562us/step - loss: 2.1544e-07 - acc: 1.0000 - val_loss: 7.4740e-08 - val_acc: 1.0000\n",
            "Epoch 8/10\n",
            "3200/3200 [==============================] - 2s 559us/step - loss: 4.8848e-08 - acc: 1.0000 - val_loss: 3.2175e-08 - val_acc: 1.0000\n",
            "Epoch 9/10\n",
            "3200/3200 [==============================] - 2s 549us/step - loss: 2.4730e-08 - acc: 1.0000 - val_loss: 1.7813e-08 - val_acc: 1.0000\n",
            "Epoch 10/10\n",
            "3200/3200 [==============================] - 2s 548us/step - loss: 1.6090e-08 - acc: 1.0000 - val_loss: 1.2501e-08 - val_acc: 1.0000\n"
          ],
          "name": "stdout"
        }
      ]
    },
    {
      "cell_type": "code",
      "metadata": {
        "id": "uf1ki6IR9TRk",
        "outputId": "9243c43e-d5e9-4234-e7ba-6e1a41a435c5"
      },
      "source": [
        "import matplotlib.pyplot as plt\n",
        "\n",
        "acc = history.history['acc']\n",
        "val_acc = history.history['val_acc']\n",
        "loss = history.history['loss']\n",
        "val_loss = history.history['val_loss']\n",
        "\n",
        "epochs = range(len(acc))\n",
        "\n",
        "plt.plot(epochs, acc, 'bo', label='Training acc')\n",
        "plt.plot(epochs, val_acc, 'b', label='Validation acc')\n",
        "plt.title('Training and validation accuracy')\n",
        "plt.legend()\n",
        "\n",
        "plt.figure()\n",
        "\n",
        "plt.plot(epochs, loss, 'bo', label='Training loss')\n",
        "plt.plot(epochs, val_loss, 'b', label='Validation loss')\n",
        "plt.title('Training and validation loss')\n",
        "plt.legend()\n",
        "\n",
        "plt.show()"
      ],
      "execution_count": null,
      "outputs": [
        {
          "output_type": "display_data",
          "data": {
            "image/png": "[encoded data removed]",
            "text/plain": [
              "<Figure size 432x288 with 1 Axes>"
            ]
          },
          "metadata": {
            "tags": [],
            "needs_background": "light"
          }
        },
        {
          "output_type": "display_data",
          "data": {
            "image/png": "[encoded data removed]",
            "text/plain": [
              "<Figure size 432x288 with 1 Axes>"
            ]
          },
          "metadata": {
            "tags": [],
            "needs_background": "light"
          }
        }
      ]
    },
    {
      "cell_type": "code",
      "metadata": {
        "id": "3IQiu9ef9TRo",
        "outputId": "40390756-2970-4732-8c82-2d0c085c6980"
      },
      "source": [
        "test_loss, test_acc = model.evaluate(x_test, y_test)"
      ],
      "execution_count": null,
      "outputs": [
        {
          "output_type": "stream",
          "text": [
            "4000/4000 [==============================] - 1s 137us/step\n"
          ],
          "name": "stdout"
        }
      ]
    },
    {
      "cell_type": "code",
      "metadata": {
        "id": "DbdSWjTm9TRr",
        "outputId": "bd3c291f-e51c-4b4a-a39e-26f037b38937"
      },
      "source": [
        "test_acc"
      ],
      "execution_count": null,
      "outputs": [
        {
          "output_type": "execute_result",
          "data": {
            "text/plain": [
              "1.0"
            ]
          },
          "metadata": {
            "tags": []
          },
          "execution_count": 34
        }
      ]
    },
    {
      "cell_type": "code",
      "metadata": {
        "id": "OOAc5xJm9TRx"
      },
      "source": [
        "import keras.models\n",
        "keras.models.save_model(model, 'ecg_Conv1D.h5')"
      ],
      "execution_count": null,
      "outputs": []
    },
    {
      "cell_type": "code",
      "metadata": {
        "id": "bC__oWoz9TR1"
      },
      "source": [
        "from keras import layers\n",
        "from keras import models\n",
        "\n",
        "model = models.Sequential()\n",
        "model.add(layers.LSTM(32, input_shape=(, )))\n",
        "model.add(layers.Dense(512, activation='relu'))\n",
        "model.add(layers.Dense(, activation=''))"
      ],
      "execution_count": null,
      "outputs": []
    },
    {
      "cell_type": "code",
      "metadata": {
        "id": "KDrgp4bl9TSG",
        "outputId": "fac21788-fc25-488c-935a-cb7f3bd26767"
      },
      "source": [
        "model.summary()"
      ],
      "execution_count": null,
      "outputs": [
        {
          "output_type": "stream",
          "text": [
            "Model: \"sequential_2\"\n",
            "_________________________________________________________________\n",
            "Layer (type)                 Output Shape              Param #   \n",
            "=================================================================\n",
            "lstm_1 (LSTM)                (None, 32)                5376      \n",
            "_________________________________________________________________\n",
            "dense_3 (Dense)              (None, 512)               16896     \n",
            "_________________________________________________________________\n",
            "dense_4 (Dense)              (None, 1)                 513       \n",
            "=================================================================\n",
            "Total params: 22,785\n",
            "Trainable params: 22,785\n",
            "Non-trainable params: 0\n",
            "_________________________________________________________________\n"
          ],
          "name": "stdout"
        }
      ]
    },
    {
      "cell_type": "code",
      "metadata": {
        "id": "19BLcGnj9TZ4",
        "outputId": "2125d4e6-a3c8-420e-e515-7a2618e797d5"
      },
      "source": [
        "from keras import optimizers\n",
        "\n",
        "model.compile(loss='',\n",
        "              optimizer=optimizers.RMSprop(lr=1e-4),\n",
        "              metrics=['acc'])\n",
        "history = model.fit(x_train, y_train, shuffle=True,\n",
        "                    epochs=10,\n",
        "                    batch_size=32,\n",
        "                    validation_split=0.2)"
      ],
      "execution_count": null,
      "outputs": [
        {
          "output_type": "stream",
          "text": [
            "Train on 3200 samples, validate on 800 samples\n",
            "Epoch 1/10\n",
            "3200/3200 [==============================] - 30s 10ms/step - loss: 0.6222 - acc: 0.7881 - val_loss: 0.5383 - val_acc: 0.8350\n",
            "Epoch 2/10\n",
            "3200/3200 [==============================] - 30s 9ms/step - loss: 0.4261 - acc: 0.9022 - val_loss: 0.2848 - val_acc: 0.9287\n",
            "Epoch 3/10\n",
            "3200/3200 [==============================] - 30s 9ms/step - loss: 0.1740 - acc: 0.9556 - val_loss: 0.1048 - val_acc: 0.9600\n",
            "Epoch 4/10\n",
            "3200/3200 [==============================] - 31s 10ms/step - loss: 0.0534 - acc: 0.9866 - val_loss: 0.0161 - val_acc: 1.0000\n",
            "Epoch 5/10\n",
            "3200/3200 [==============================] - 29s 9ms/step - loss: 0.0178 - acc: 0.9978 - val_loss: 0.0074 - val_acc: 1.0000\n",
            "Epoch 6/10\n",
            "3200/3200 [==============================] - 30s 9ms/step - loss: 0.0077 - acc: 0.9991 - val_loss: 0.0028 - val_acc: 1.0000\n",
            "Epoch 7/10\n",
            "3200/3200 [==============================] - 31s 10ms/step - loss: 0.0045 - acc: 0.9994 - val_loss: 0.0010 - val_acc: 1.0000\n",
            "Epoch 8/10\n",
            "3200/3200 [==============================] - 31s 10ms/step - loss: 0.0023 - acc: 0.9997 - val_loss: 4.1953e-04 - val_acc: 1.0000\n",
            "Epoch 9/10\n",
            "3200/3200 [==============================] - 30s 9ms/step - loss: 0.0018 - acc: 0.9997 - val_loss: 1.2856e-04 - val_acc: 1.0000\n",
            "Epoch 10/10\n",
            "3200/3200 [==============================] - 31s 10ms/step - loss: 0.0018 - acc: 0.9997 - val_loss: 5.8735e-05 - val_acc: 1.0000\n"
          ],
          "name": "stdout"
        }
      ]
    },
    {
      "cell_type": "code",
      "metadata": {
        "id": "kEgaV1w-9TZ-",
        "outputId": "bbbd006a-cdf3-47f7-ed7f-dac76609bae2"
      },
      "source": [
        "import matplotlib.pyplot as plt\n",
        "\n",
        "acc = history.history['acc']\n",
        "val_acc = history.history['val_acc']\n",
        "loss = history.history['loss']\n",
        "val_loss = history.history['val_loss']\n",
        "\n",
        "epochs = range(len(acc))\n",
        "\n",
        "plt.plot(epochs, acc, 'bo', label='Training acc')\n",
        "plt.plot(epochs, val_acc, 'b', label='Validation acc')\n",
        "plt.title('Training and validation accuracy')\n",
        "plt.legend()\n",
        "\n",
        "plt.figure()\n",
        "\n",
        "plt.plot(epochs, loss, 'bo', label='Training loss')\n",
        "plt.plot(epochs, val_loss, 'b', label='Validation loss')\n",
        "plt.title('Training and validation loss')\n",
        "plt.legend()\n",
        "\n",
        "plt.show()"
      ],
      "execution_count": null,
      "outputs": [
        {
          "output_type": "display_data",
          "data": {
            "image/png": "[encoded data removed]",
            "text/plain": [
              "<Figure size 432x288 with 1 Axes>"
            ]
          },
          "metadata": {
            "tags": [],
            "needs_background": "light"
          }
        },
        {
          "output_type": "display_data",
          "data": {
            "image/png": "[encoded data removed]",
            "text/plain": [
              "<Figure size 432x288 with 1 Axes>"
            ]
          },
          "metadata": {
            "tags": [],
            "needs_background": "light"
          }
        }
      ]
    },
    {
      "cell_type": "code",
      "metadata": {
        "id": "mWYa_U229TaE",
        "outputId": "03a392e0-91d5-4af0-9bbc-e995ab50b703"
      },
      "source": [
        "test_loss, test_acc = model.evaluate(x_test, y_test)"
      ],
      "execution_count": null,
      "outputs": [
        {
          "output_type": "stream",
          "text": [
            "4000/4000 [==============================] - 7s 2ms/step\n"
          ],
          "name": "stdout"
        }
      ]
    },
    {
      "cell_type": "code",
      "metadata": {
        "id": "pOMd059_9TaU",
        "outputId": "a6205be7-0298-41c6-c50b-2f1dfcc2ed14"
      },
      "source": [
        "test_acc"
      ],
      "execution_count": null,
      "outputs": [
        {
          "output_type": "execute_result",
          "data": {
            "text/plain": [
              "0.9564999938011169"
            ]
          },
          "metadata": {
            "tags": []
          },
          "execution_count": 41
        }
      ]
    },
    {
      "cell_type": "code",
      "metadata": {
        "id": "hrOeaeqj9TaY"
      },
      "source": [
        "import keras.models\n",
        "keras.models.save_model(model, 'ecg_LSTM.h5')"
      ],
      "execution_count": null,
      "outputs": []
    }
  ]
}